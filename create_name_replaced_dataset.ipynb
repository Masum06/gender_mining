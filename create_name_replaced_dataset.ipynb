{
  "nbformat": 4,
  "nbformat_minor": 0,
  "metadata": {
    "colab": {
      "name": "create_name_replaced_dataset.ipynb",
      "version": "0.3.2",
      "provenance": [],
      "collapsed_sections": [
        "YIXPi6kHjAm1",
        "sC5dbR7Iri6G",
        "n6ifJ-qyX1vZ",
        "ypzRKtvi6XyO"
      ],
      "include_colab_link": true
    },
    "kernelspec": {
      "name": "python3",
      "display_name": "Python 3"
    }
  },
  "cells": [
    {
      "cell_type": "markdown",
      "metadata": {
        "id": "view-in-github",
        "colab_type": "text"
      },
      "source": [
        "[View in Colaboratory](https://colab.research.google.com/github/Masum06/gender_mining/blob/master/create_name_replaced_dataset.ipynb)"
      ]
    },
    {
      "metadata": {
        "id": "_GOkC4j38xgS",
        "colab_type": "text"
      },
      "cell_type": "markdown",
      "source": [
        "## Most important file for my thesis\n",
        "\n",
        "**Description**\n",
        "\n",
        "*    Download the Newspaper dataset\n",
        "*    Make 4 different dataset with it\n",
        "\n",
        "  1.   Normal dataset with newspaper data\n",
        "  2.   All female names replaced with \"woman\"\n",
        "  3.   All male names replaced with \"man\"\n",
        "  4.   Both female and male names replaced with \"woman\" and \"man\"\n",
        "\n",
        "*    Save the 4 dataset to google drive\n",
        "*    Datasets later to be used in training gensim models\n",
        "\n",
        "*Directory Structure:*\n",
        "This directory must be present inside Google Drive\n",
        "\n",
        "**data/**\n",
        "\n",
        "---\n",
        "\n",
        "**Other Features**\n",
        "*    Runtime estimation\n",
        "*    In place status update\n"
      ]
    },
    {
      "metadata": {
        "id": "nYDUoT_znply",
        "colab_type": "code",
        "colab": {
          "base_uri": "https://localhost:8080/",
          "height": 35
        },
        "outputId": "2b73e6cb-a128-4cf4-a8f4-1d78a0cf2d2e"
      },
      "cell_type": "code",
      "source": [
        "ls"
      ],
      "execution_count": 1,
      "outputs": [
        {
          "output_type": "stream",
          "text": [
            "\u001b[0m\u001b[01;34mdatalab\u001b[0m/\r\n"
          ],
          "name": "stdout"
        }
      ]
    },
    {
      "metadata": {
        "id": "KqfICs-iiD3N",
        "colab_type": "text"
      },
      "cell_type": "markdown",
      "source": [
        "###Loading Newspaper dataset"
      ]
    },
    {
      "metadata": {
        "id": "lvHx0zv6iCtU",
        "colab_type": "code",
        "colab": {
          "base_uri": "https://localhost:8080/",
          "height": 401
        },
        "outputId": "c4ab0ed4-f4ad-4a1d-bc3a-0f717874d540"
      },
      "cell_type": "code",
      "source": [
        "%%bash\n",
        "git clone https://github.com/jeroenmeulenaar/python3-mega.git python3mega\n",
        "cd python3mega\n",
        "pip install -r requirements.txt"
      ],
      "execution_count": 2,
      "outputs": [
        {
          "output_type": "stream",
          "text": [
            "Requirement already satisfied: requests>=1.1.0 in /usr/local/lib/python3.6/dist-packages (from -r requirements.txt (line 1)) (2.18.4)\n",
            "Collecting URLObject>=2.1.1 (from -r requirements.txt (line 2))\n",
            "  Downloading https://files.pythonhosted.org/packages/e2/b8/1d0a916f4b34c4618846e6da0e4eeaa8fcb4a2f39e006434fe38acb74b34/URLObject-2.4.3.tar.gz\n",
            "Collecting pycrypto>=2.6 (from -r requirements.txt (line 3))\n",
            "  Downloading https://files.pythonhosted.org/packages/60/db/645aa9af249f059cc3a368b118de33889219e0362141e75d4eaf6f80f163/pycrypto-2.6.1.tar.gz (446kB)\n",
            "Requirement already satisfied: idna<2.7,>=2.5 in /usr/local/lib/python3.6/dist-packages (from requests>=1.1.0->-r requirements.txt (line 1)) (2.6)\n",
            "Requirement already satisfied: chardet<3.1.0,>=3.0.2 in /usr/local/lib/python3.6/dist-packages (from requests>=1.1.0->-r requirements.txt (line 1)) (3.0.4)\n",
            "Requirement already satisfied: urllib3<1.23,>=1.21.1 in /usr/local/lib/python3.6/dist-packages (from requests>=1.1.0->-r requirements.txt (line 1)) (1.22)\n",
            "Requirement already satisfied: certifi>=2017.4.17 in /usr/local/lib/python3.6/dist-packages (from requests>=1.1.0->-r requirements.txt (line 1)) (2018.4.16)\n",
            "Building wheels for collected packages: URLObject, pycrypto\n",
            "  Running setup.py bdist_wheel for URLObject: started\n",
            "  Running setup.py bdist_wheel for URLObject: finished with status 'done'\n",
            "  Stored in directory: /content/.cache/pip/wheels/fd/7e/18/ccb55ecc2834f945b769c1ff1df12ca5a14400ccfc58e3c515\n",
            "  Running setup.py bdist_wheel for pycrypto: started\n",
            "  Running setup.py bdist_wheel for pycrypto: finished with status 'done'\n",
            "  Stored in directory: /content/.cache/pip/wheels/27/02/5e/77a69d0c16bb63c6ed32f5386f33a2809c94bd5414a2f6c196\n",
            "Successfully built URLObject pycrypto\n",
            "Installing collected packages: URLObject, pycrypto\n",
            "Successfully installed URLObject-2.4.3 pycrypto-2.6.1\n"
          ],
          "name": "stdout"
        },
        {
          "output_type": "stream",
          "text": [
            "Cloning into 'python3mega'...\n"
          ],
          "name": "stderr"
        }
      ]
    },
    {
      "metadata": {
        "id": "BtKrU2piiWAp",
        "colab_type": "code",
        "colab": {}
      },
      "cell_type": "code",
      "source": [
        "import os\n",
        "os.chdir(\"python3mega\")\n",
        "from mega import Mega\n",
        "m = Mega.from_ephemeral()\n",
        "os.chdir(\"..\")"
      ],
      "execution_count": 0,
      "outputs": []
    },
    {
      "metadata": {
        "id": "sNpLvKQ3iZSh",
        "colab_type": "code",
        "colab": {}
      },
      "cell_type": "code",
      "source": [
        "m.download_from_url('https://mega.nz/#!sBIyzQJK!blCZdV-tca0uJ0yR4l08DEcFoMGuQ3PuNDLbTaD_NqY') #news_db.json"
      ],
      "execution_count": 0,
      "outputs": []
    },
    {
      "metadata": {
        "id": "mBxurmj6M5HX",
        "colab_type": "code",
        "colab": {}
      },
      "cell_type": "code",
      "source": [
        "m.download_from_url('https://mega.nz/#!gEpHDAaS!jn0cBU5OveC8o3Bp8VrIuubZ1cPPGjpxJT8wc7HgW1k') #char_rnn_hsc_model_97.67.hdf5"
      ],
      "execution_count": 0,
      "outputs": []
    },
    {
      "metadata": {
        "id": "JCSUFqAOmz8h",
        "colab_type": "code",
        "colab": {}
      },
      "cell_type": "code",
      "source": [
        "m.download_from_url('https://mega.nz/#!5VZTGC4Y!zYlnGkVKoEOVaNqm2UwCSWDZXE_g9u4E3JcYj0ipE8Q') #news_db_instance.json"
      ],
      "execution_count": 0,
      "outputs": []
    },
    {
      "metadata": {
        "id": "xD3gTJ8ZNIUZ",
        "colab_type": "code",
        "colab": {
          "base_uri": "https://localhost:8080/",
          "height": 35
        },
        "outputId": "b0582ff2-255d-419e-dcc9-5a2b7062568d"
      },
      "cell_type": "code",
      "source": [
        "ls"
      ],
      "execution_count": 7,
      "outputs": [
        {
          "output_type": "stream",
          "text": [
            "char_rnn_hsc_model_97.67.hdf5  \u001b[0m\u001b[01;34mdatalab\u001b[0m/  news_db.json  \u001b[01;34mpython3mega\u001b[0m/\r\n"
          ],
          "name": "stdout"
        }
      ]
    },
    {
      "metadata": {
        "id": "6vsCTf2A3HZf",
        "colab_type": "text"
      },
      "cell_type": "markdown",
      "source": [
        "###Connect to Google Drive to save models"
      ]
    },
    {
      "metadata": {
        "id": "2ybOaSc_3Egk",
        "colab_type": "code",
        "colab": {
          "base_uri": "https://localhost:8080/",
          "height": 110
        },
        "outputId": "0c6df1d6-aa08-4235-ebf6-5996d87bf0b9"
      },
      "cell_type": "code",
      "source": [
        "!apt-get install -y -qq software-properties-common python-software-properties module-init-tools\n",
        "!add-apt-repository -y ppa:alessandro-strada/ppa 2>&1 > /dev/null\n",
        "!apt-get update -qq 2>&1 > /dev/null\n",
        "!apt-get -y install -qq google-drive-ocamlfuse fuse\n",
        "from google.colab import auth\n",
        "auth.authenticate_user()\n",
        "from oauth2client.client import GoogleCredentials\n",
        "creds = GoogleCredentials.get_application_default()\n",
        "import getpass\n",
        "!google-drive-ocamlfuse -headless -id={creds.client_id} -secret={creds.client_secret} < /dev/null 2>&1 | grep URL\n",
        "vcode = getpass.getpass()\n",
        "!echo {vcode} | google-drive-ocamlfuse -headless -id={creds.client_id} -secret={creds.client_secret}"
      ],
      "execution_count": 8,
      "outputs": [
        {
          "output_type": "stream",
          "text": [
            "Please, open the following URL in a web browser: https://accounts.google.com/o/oauth2/auth?client_id=32555940559.apps.googleusercontent.com&redirect_uri=urn%3Aietf%3Awg%3Aoauth%3A2.0%3Aoob&scope=https%3A%2F%2Fwww.googleapis.com%2Fauth%2Fdrive&response_type=code&access_type=offline&approval_prompt=force\r\n",
            "··········\n",
            "Please, open the following URL in a web browser: https://accounts.google.com/o/oauth2/auth?client_id=32555940559.apps.googleusercontent.com&redirect_uri=urn%3Aietf%3Awg%3Aoauth%3A2.0%3Aoob&scope=https%3A%2F%2Fwww.googleapis.com%2Fauth%2Fdrive&response_type=code&access_type=offline&approval_prompt=force\n",
            "Please enter the verification code: Access token retrieved correctly.\n"
          ],
          "name": "stdout"
        }
      ]
    },
    {
      "metadata": {
        "id": "NCsSQHpD3U6k",
        "colab_type": "code",
        "colab": {
          "base_uri": "https://localhost:8080/",
          "height": 54
        },
        "outputId": "924c3cd1-aacc-4562-f001-66feb9cec38b"
      },
      "cell_type": "code",
      "source": [
        "!mkdir -p drive\n",
        "!google-drive-ocamlfuse drive"
      ],
      "execution_count": 10,
      "outputs": [
        {
          "output_type": "stream",
          "text": [
            "fuse: mountpoint is not empty\r\n",
            "fuse: if you are sure this is safe, use the 'nonempty' mount option\r\n"
          ],
          "name": "stdout"
        }
      ]
    },
    {
      "metadata": {
        "id": "oDe-aa5nFadR",
        "colab_type": "text"
      },
      "cell_type": "markdown",
      "source": [
        "### Modifying Gender Names"
      ]
    },
    {
      "metadata": {
        "id": "Ibitq9MuH8Rx",
        "colab_type": "code",
        "colab": {}
      },
      "cell_type": "code",
      "source": [
        "import numpy as np\n",
        "from keras.preprocessing import sequence\n",
        "from keras.models import load_model\n",
        "\n",
        "model = load_model('char_rnn_hsc_model_97.67.hdf5')\n",
        "\n",
        "char2idx = {'o': 0, 'b': 1, 'e': 2, 'w': 3, 'p': 4, '-': 5, 't': 6, 'k': 7, 'q': 8, 'f': 9, 'n': 10, 'z': 11, 'u': 12, ' ': 13, '.': 14, 'd': 15, 'h': 16, 'm': 17, '(': 18, 'r': 19, ')': 20, 'j': 21, 'l': 22, 'i': 23, 's': 24, 'c': 25, 'a': 26, 'g': 27, ':': 28, 'v': 29, 'y': 30, 'x': 31}\n",
        "idx2char = {0: 'o', 1: 'b', 2: 'e', 3: 'w', 4: 'p', 5: '-', 6: 't', 7: 'k', 8: 'q', 9: 'f', 10: 'n', 11: 'z', 12: 'u', 13: ' ', 14: '.', 15: 'd', 16: 'h', 17: 'm', 18: '(', 19: 'r', 20: ')', 21: 'j', 22: 'l', 23: 'i', 24: 's', 25: 'c', 26: 'a', 27: 'g', 28: ':', 29: 'v', 30: 'y', 31: 'x'}\n",
        "\n",
        "# Converts a name into vector\n",
        "def name2vector(name):\n",
        "    name = name.lower()\n",
        "    new_name = \"\"\n",
        "    for char in name:\n",
        "      if char in char2idx:\n",
        "        new_name += char\n",
        "    chars = list(new_name)\n",
        "    vector = [ char2idx[c] for c in chars ]\n",
        "    return np.array(vector)\n",
        "\n",
        "# Converts names to fixed size tensor\n",
        "def names2tensor(names, maxlen=25):\n",
        "    namelist = [name2vector(name) for name in names]\n",
        "    return sequence.pad_sequences(np.array(namelist), maxlen=maxlen)  # root of all troubles\n",
        "\n",
        "def nameTest(name):\n",
        "  result = model.predict_classes(np.array(names2tensor([name.lower()])))[0][0]\n",
        "  if result:\n",
        "    print(\"Male\")\n",
        "  else:\n",
        "    print(\"Female\")\n",
        "\n",
        "def isMale(name):\n",
        "  result = model.predict_classes(np.array(names2tensor([name.lower()])))[0][0]\n",
        "  return result\n",
        "\n",
        "def genderDictionary(ner_person):\n",
        "  dictionary = {}\n",
        "  for name in ner_person:\n",
        "    dictionary[name] = isMale(name)\n",
        "  return dictionary\n",
        "\n",
        "def concatAll(content, ner_person):\n",
        "  ner_person = sorted(ner_person, key=len, reverse=True)\n",
        "  for name in ner_person:\n",
        "    content = content.replace(name, name.replace(\" \", \"\"))\n",
        "  return content\n",
        "  \n",
        "def replaceMaleConcatFemale(content, genderDict):\n",
        "  ner_person = sorted(genderDict, key=len, reverse=True)\n",
        "  \n",
        "  for name in ner_person:\n",
        "    if genderDict[name] == 0:\n",
        "      content = content.replace(name, name.replace(\" \", \"\"))\n",
        "    else:\n",
        "      content = content.replace(name, \"man\")\n",
        "  return content\n",
        "\n",
        "def replaceFemaleConcatMale(content, genderDict):\n",
        "  ner_person = sorted(genderDict, key=len, reverse=True)\n",
        "  \n",
        "  for name in ner_person:\n",
        "    if genderDict[name] == 1:\n",
        "      content = content.replace(name, name.replace(\" \", \"\"))\n",
        "    else:\n",
        "      content = content.replace(name, \"woman\")\n",
        "  return content\n",
        "\n",
        "def replaceAll(content, genderDict):\n",
        "  ner_person = sorted(genderDict, key=len, reverse=True)\n",
        "  \n",
        "  for name in ner_person:\n",
        "    if genderDict[name] == 1:\n",
        "      content = content.replace(name, \"man\")\n",
        "    else:\n",
        "      content = content.replace(name, \"woman\")\n",
        "  return content"
      ],
      "execution_count": 0,
      "outputs": []
    },
    {
      "metadata": {
        "id": "g92RX8Yq4HLb",
        "colab_type": "code",
        "colab": {}
      },
      "cell_type": "code",
      "source": [
        "from datetime import datetime\n",
        "from dateutil.relativedelta import relativedelta\n",
        "\n",
        "def diff(t_a, t_b, c):\n",
        "    t_diff = relativedelta(t_b, t_a)*c  # later/end time comes first!\n",
        "    return '{h}h {m}m {s}s'.format(h=t_diff.hours, m=t_diff.minutes, s=t_diff.seconds)"
      ],
      "execution_count": 0,
      "outputs": []
    },
    {
      "metadata": {
        "id": "J4xRftw9FsMT",
        "colab_type": "code",
        "colab": {}
      },
      "cell_type": "code",
      "source": [
        "import sys\n",
        "import json\n",
        "\n",
        "input_text_none = \"\"\n",
        "input_text_man = \"\"\n",
        "input_text_woman = \"\"\n",
        "input_text_both = \"\"\n",
        "all_name_set = set()\n",
        "\n",
        "i = 1\n",
        "data = \"news_db_instance.json\"\n",
        "file_len = 165236\n",
        "t_a = datetime.now()\n",
        "\n",
        "with open(data, encoding=\"utf-8\") as file:\n",
        "  for line in file:\n",
        "    try:\n",
        "      i+=1\n",
        "      parsed_json = json.loads(line)\n",
        "      \n",
        "      section = parsed_json[\"section\"]\n",
        "      if section == \"World\":\n",
        "        continue\n",
        "        \n",
        "      content = parsed_json[\"content\"]\n",
        "      content += \" \"\n",
        "      ner_unique_person = parsed_json[\"ner_unique_person\"]\n",
        "      all_name_set.update(ner_unique_person)\n",
        "      genderDict = genderDictionary(ner_unique_person)\n",
        "      \n",
        "      input_text_none += concatAll(content, ner_unique_person)\n",
        "      input_text_man += replaceMaleConcatFemale(content, genderDict)\n",
        "      input_text_woman += replaceFemaleConcatMale(content, genderDict)\n",
        "      input_text_both += replaceAll(content, genderDict)\n",
        "      \n",
        "      # PRINT STATUS (print is an expensive function call)\n",
        "      if i%100==0:\n",
        "        t_b = datetime.now()\n",
        "        t_past = diff(t_a, t_b, 1)\n",
        "        t_remain = diff(t_a, t_b, (file_len-i)/(i+0.000001))\n",
        "        print( \"\\r{:.2f}% finished.\".format(100*i/(file_len-1)), \"\\tCurrent Position:\", i, \n",
        "          \"\\tTime Elapsed:\",t_past, \"\\tEstimated Remaining Time:\",t_remain, end=\"\")\n",
        "\n",
        "    except Exception as e:\n",
        "      print(\"\\nException: \", e,\"\\nSys info: \", sys.exc_info()[0])\n",
        "      continue\n",
        "    \n",
        "file.close()"
      ],
      "execution_count": 0,
      "outputs": []
    },
    {
      "metadata": {
        "id": "AQPgwtOnt82G",
        "colab_type": "code",
        "colab": {}
      },
      "cell_type": "code",
      "source": [
        "#    if i < int(0.77*file_len):\n",
        "#      i+=1\n",
        "#      continue"
      ],
      "execution_count": 0,
      "outputs": []
    },
    {
      "metadata": {
        "id": "d5Ta2jvtCG-H",
        "colab_type": "code",
        "colab": {}
      },
      "cell_type": "code",
      "source": [
        "!split -l 50000 news_db.json"
      ],
      "execution_count": 0,
      "outputs": []
    },
    {
      "metadata": {
        "id": "6M62YoITGZEi",
        "colab_type": "code",
        "colab": {
          "base_uri": "https://localhost:8080/",
          "height": 108
        },
        "outputId": "d66a8d31-f65e-4822-b357-f8a80ba7bf1e"
      },
      "cell_type": "code",
      "source": [
        "print(len(input_text_none.split(\" \")))\n",
        "print(len(input_text_man.split(\" \")))\n",
        "print(len(input_text_woman.split(\" \")))\n",
        "print(len(input_text_both.split(\" \")))\n",
        "print(len(all_name_set))"
      ],
      "execution_count": 69,
      "outputs": [
        {
          "output_type": "stream",
          "text": [
            "386165\n",
            "1\n",
            "1\n",
            "1\n",
            "0\n"
          ],
          "name": "stdout"
        }
      ]
    },
    {
      "metadata": {
        "id": "0DSpI1splQkV",
        "colab_type": "text"
      },
      "cell_type": "markdown",
      "source": [
        "Total: 165,000+ data row\n",
        "\n",
        "---\n",
        "\n",
        "8528 - 14:37\n",
        "\n",
        "---\n",
        "None: 156789655, Man: 153146940, Woman: 155710717, Both: 152118708\n",
        "\n",
        "---\n",
        "None: 24487146, Man: 24487391, Woman: 24487201, Both: 24487446\n",
        "\n"
      ]
    },
    {
      "metadata": {
        "id": "TKOEV0o1U875",
        "colab_type": "code",
        "colab": {
          "base_uri": "https://localhost:8080/",
          "height": 108
        },
        "outputId": "8149df4d-677a-495a-ba91-ea66ab268643"
      },
      "cell_type": "code",
      "source": [
        "print(\"normal: \", input_text_none[0:50])\n",
        "print(\"Male name replaced: \", input_text_man[0:50])\n",
        "print(\"Female name replaced: \", input_text_woman[0:50])\n",
        "print(\"Both name replaced: \", input_text_both[0:10])\n",
        "print(\"Unique names: \", list(all_name_set)[0:4])"
      ],
      "execution_count": 48,
      "outputs": [
        {
          "output_type": "stream",
          "text": [
            "normal:  People's hopes for the best and confidence in the \n",
            "Male name replaced:  People's hopes for the best and confidence in the \n",
            "Female name replaced:  People's hopes for the best and confidence in the \n",
            "Both name replaced:  People's h\n",
            "Unique names:  ['Abdur Rouf', 'Wasa', 'Masudul Hasan Rony', 'Shaheed Minar']\n"
          ],
          "name": "stdout"
        }
      ]
    },
    {
      "metadata": {
        "id": "lG7P8txmhbpb",
        "colab_type": "code",
        "colab": {
          "base_uri": "https://localhost:8080/",
          "height": 55
        },
        "outputId": "1b1201a0-122a-4f60-81ef-9932b4583dc2"
      },
      "cell_type": "code",
      "source": [
        "print(input_text_both)"
      ],
      "execution_count": 63,
      "outputs": [
        {
          "output_type": "stream",
          "text": [
            "From guiding you on using the right equipment in gyms to helping you out with exercises, a fitness trainer can really help you reach your health goals. But before we get to that, there are a few other things to know.Among the busy city life, it is usually the evenings when the gyms see the highest number of people. From training for competitions to just opting for a healthier lifestyle, there are people from all ages â€“ from as low as 16 to as high as 45 year olds. That being said, there are no age limits to stay fit, although certain workouts do require a specific level of physical strength and is best to avoid without assistance.For beginners, it is important to start simple and work your way up into more difficult exercises steadily instead of aiming for the whole package the first week and then stopping altogether. Working out about three days a week, combined with other sports or physical activities on other days is enough to keep an average person healthy. While working out is better, it is still not acceptable for it to become a hassle to your daily schedule, and so, it is important to find a balance.For those looking to enhance performance, gym is clearly a much better option as you are always pushing your limits in the gym. However, those who are too self-conscious and want to go at your own pace should start working out at home. Not only does this help you become more familiar with the equipment but also allows you to have a customised setting. It will also save time.You do not have to spend hours in traffic just to go to the gym or even wait on others to finish using the equipment. Â Moreover, many suffer injuries in the gym because they try to keep up with someone who is physically more capable. While gym workouts will provide you with more variety, with a minimal investment, you can just as easily develop a customised workout routine with strength training and bodyweight exercises at the comfort of your own home.Whether you decide to hit the gym or plan a workout at your home, it is important to know exactly the kind of trainer you would require. Not only will trainers help you with various exercises, they will also monitor your progress and adapt programs as needed. In fact, it is the job of the trainer to ensure that you are carrying out the exercises safely.Group fitness instructors at gyms usually train a small group of people and have a set pre-planned generalised fitness program that they follow. While more advanced instructors create their own routines, many just follow existing routines created by fitness companies. On a different note, personal fitness trainers design workouts specific to the needs of their clients. The client's body type is usually first analysed and the workout is programmed accordingly.Specialised fitness instructors can be found for each specific method such as yoga, aerobics or Pilates. These trainers are perfect for those who are not too enthusiastic about the traditional workout routines, but do enjoy one specific form. Those who are more advanced and know their way around the gym just need a spotter, who basically ensure safety during exercises and prevent injuries. With the help of a spotter, one can push their boundaries specifically during weight-lifting.With an Australian certified instructor and 12 trainers, Fitness Plus Bangladesh has been a popular choice among man and Gulshan dwellers for years. With a body analysis machine that will help decide the kind of workout a person will require, they have effective workout plans for beginners. Even Hammer Strength Fitness Club in man 11 is a great place to start, with their equipment being upgraded on a regular basis.For Dhanmondi dwellers, Muscle Mania remains a popular option, while Uttara has Esporta Gym. Â For those around the Motijheel area, WorldGym (BD) is also a good option. Membership costs from Tk 3000 to Tk 6000 per month, with packages and offers available for those thinking long-term.You could also get a personal trainer to train you at home at about Tk15000 per month who will train you with the exercise as well as give you dietary plans. Often, gym instructors are willing to provide personal training in the comfort of your home when they are not working.Make sure you talk the arrangements through thoroughly, especially specifying your health goals, and remember to ask what equipment you need to achieve it.Having some equipment at your place will allow more variety during exercises. Equipment costs vary depending on the quality, but forming a personal mini gym would require a substantial amount.Some basic equipment that are low on cost include the resistance bands, weights, stability ball, dumbbells and a yoga mat. Dumbbells cost around Tk 200, and you can find a yoga mat at around Tk 1000 in any sports shop. Those who are a bit more advanced should invest on a cross-trainer, which costs from Tk 40,000 to over 100,000.A lat pull-down is also recommended and cost around Tk 40,000 to over Tk 75,000, while the treadmill, costing around Tk 30,000 tk to Tk 80,000 is a must-have! You could get them at 'Shop 21' or 'Body And Sports' in Panthapath, or check out the shops in Stadium Market, Gulistan or Mirpur stadium. (L-R) man, man, alleged ringleader of \"man-man\" smuggling gang of Zia International Airport (man), became a millionaire stealing goods from the cargo area of the airport while his cohort man provided information about goods kept at man. man, who joined man as a janitor, lost his job due to his involvement in a theft case.  He has also become a millionaire by providing information to the gang aboutgoods at man for the last 20 years. man and man said they stole the statuettes believing that those were made of precious stones. They gave their stunning statement to journalists yesterday when they were paraded before a press briefing at the headquarters of Rapid Action Battalion-1 at Uttara in the city. Rapid Action Battalion (man) arrested man at Tilpapara in the city's Khilgaon and man at Mollahartek of Uttara Sunday night. man told journalist that on December 21 night his aides man, driver of civil aviation department man, man and man went to his Uttara home and handed him the two statuettes--one black and another white. He said he broke the statuettes in two and realised that those were earthen. man also said they broke the statuettes into pieces in front of some neighbours including former Jatiya Party lawmaker man.  They later dumped the fragments at the garbage dumping station of Uttara. As the media started covering the theft incident, man got frightened and he hid himself in a house in Khilgaon.  man also fled from his Mollahartek home but returned on December 25. man-1 Commanding Officer Lt Col Sayadis Saqline, man and Media Wing Director woman, Major man of man Intelligence Wing briefed journalists about how the gang stole the Vishnu relics from man. man officials said they are conducting drives to arrest man janitors man and man, associates of man and man. On Sunday, investigators recovered four fragments that seemed to be parts of the two stolen statuettes.  Experts of the National Museum were working to identify the fragments. On Friday, around 200 man personnel and 25 Dhaka City Corporation teams rounded up around 200 fragments.  Later, two National Museum officials identified 27 pieces on the spot as parts of the stolen idols.  No officials from the museum were on the spot yesterday.  People's hopes for the best and confidence in the caretaker government seem to be reducing while the country's economy is experiencing recession. The state of emergency, which was indispensable at the beginning of the year to avoid the political turmoil over the January 22 parliamentary polls, gave birth to the current caretaker government, raising people's hopes for changes. With the wholehearted support of people as well as the armed forces, the interim regime started its journey on very high expectations on January 12, a day after the declaration of the state of emergency, vowing to bring changes to ensure a free and fair parliamentary election to install a pro-people elected government. But, at the last quarter of the just concluded year, the escalation of public frustration over the performance of the interim administration overshadowed some of its significant achievements like separation of the judiciary, launching crackdown on \"corrupt political bigwigs\", reconstitution of some crucial institutions. However, its role in handling the corruption drive, much hyped reforms in political parties, university teachers' detention has triggered questions in public minds whether the interim regime can finish all its tasks before holding the stalled parliamentary polls within the stipulated time. Moreover, its failure, despite some sincere efforts, to arrest skyrocketing prices of essentials made commoners annoyed though the year was without traditional negative political culture that in the past hampered country's economy a lot by enforcing violent political programmes like hartals, blockade etc. The crackdown on corrupt political bigwigs and businessmen got people's overwhelming support, but some steps like anti-hoarding and harassment of top businessmen caused severe setbacks as the steps sent a chill of panic among the business community. At the beginning of the caretaker regime, the wholesale eviction drive across the country to recover public land made several lakh vendors and hawkers jobless what many economists think did greatly damage the informal small business sector. Besides, natural calamities like the devastating floods and horrifying cyclone man made the ways difficult for the interim administration. Following the natural disasters and lack of farsighted steps on the economic front, at the end of the year the country's economy has been largely stagnant.  Economists' observation about the country's economic situation is more panicking than encouraging. In its last over 11 months tenure, the caretaker government faced one vigorous agitation against it in last August at educational institutions and their adjacent areas centring the incident at Dhaka University (DU) campus. To control the situation, the government withdrew the army camp from DU campus, shutdown all public universities and enforced curfew in the divisional headquarters. Besides, the veteran freedom fighters launched movement for trial of war criminals and the demand for imposing ban on war criminals has been raised strongly. The recent resignation of an adviser, man, over the artefacts fiasco put the caretaker government in an embarrassing situation.  Many political analysts, however, observed that man could have taken some early action and save a lot of embarrassment for the government. Many people, however, still dream of changes for better days and believe the caretaker government will be able to overcome the current situation when the country's economy will be thriving again in an atmosphere where corruption is under control. Political analysts, however, believe 1/11 (January 11) changeover really provides the interim regime with the historic opportunity to contribute to establishing a desirable democratic rule in the country by bringing qualitative changes in the country's political culture. But, the developments in past few months made many political analysts sceptical about the implementation of the much-talked-about reforms roadmap that stipulated that the stalled ninth parliamentary election must be held by December 2008. When the country was experiencing grave political turmoil, President man was forced to resign from the office of the chief adviser dissolving the council of advisers and declare the state of emergency on January 11. The next day, with the formation of the caretaker government afresh, rule of an un-elected regime began in Bangladesh with unlimited tenure, as the constitutional obligation for holding the parliamentary polls within 90 days after dissolving the erstwhile parliament was not followed as a result of emergency. The current interim administration is a unique one in the history of caretaker governments that held parliamentary polls within the stipulated timeframe in 1996 and 2001. The current caretaker government was welcomed by the people even though their fundamental rights enshrined in the constitution were suspended by the state of emergency. Thus, the interim regime began its journey with the pledges to present the countrymen a free, fair and credible election for ensuring good governance. With the huge task of running the government for additional time, the caretaker government tried to expand the council of advisers but failed, as the constitution does not allow appointing more than 11 advisers, including the chief adviser. From February, it launched crackdowns on the corrupt people and detained political bigwigs including the two former prime ministers who were once considered above the country's laws.  People appreciated the clampdown on the corrupt people who were put behind bars regardless of their political identity for the first time after the country's independence. To intensify the anti-grafts drive effectively, the government reconstituted the Anti-corruption Commission (ACC), formed national task force on curbing serious crimes, and formulated rules under the emergency powers to prevent corrupt people taking part in the elections. Many of the political bigwigs including Awami League chief Sheikh man and BNP Chairperson man might not be able to contest the next parliamentary election if they are convicted on corruption charges by the trial court, according to the emergency power rules. Since the reconstitution of the ACC on February 25, it served notices on 256 former lawmakers and ministers including the two former premiers asking them to submit their wealth statements.  Of them, 239 submitted the wealth statements to the ACC. It has so far filed 141 cases against former ministers and lawmakers and of them 53 cases are now under trial and verdict in 18 cases were delivered sentencing former ministers, lawmakers and businessmen to various terms of imprisonment. The government has forced some corrupt people to deposit with the exchequer around Tk 800 crore which they had accumulated through corruption. Economists said political turmoil from October last year followed by the sweeping anti-corruption drive slowed down investment.  Business organisations are uncertain whether to go for new investments or not.  And government's dillydallying over some big investment proposals contributed to the slow foreign direct investment (FDI) growth. The government has initiated formation of Truth Commission and Regulatory Reforms Commission to restore the business community's confidence.  Despite the measures, the businessmen are still in uncertainty about the political situation and economic scenario, prompting them to keep away from new investments. Import of capital machinery fell by 30 percent in the first quarter of the current fiscal year due to slow growth of both local and foreign investments.  According to Bangladesh Bank statistics, capital machinery worth $366 million was imported during July-September period of 2007 while it was $402 million during the corresponding period in last fiscal year. Import of raw materials, however, went up by 18 percent with edible oil and oil seeds being half of the total. Industrial credit disbursement was not satisfactory in the first quarter of this fiscal year despite having huge liquidity in the banking system.  The disbursement saw nine percent growth during this period as against 28 percent during the corresponding period of the previous fiscal year.  The amount of excess liquidity in the banking system remained Tk 13,129 crore till the end of August 2007. Bangladesh received $132 million FDI in July-August 2007, 3. 64 percent less than $137million received during the corresponding period of the previous year. Production of medium and large manufacturing industries saw slower growth in the last fiscal year. According to central bank statistics, industrial production growth percentage came down by 2. 48 percent to 10. 01 percent last fiscal year, which was 12. 48 percent in 2005-06 fiscal year. Moreover, inflation keeps rising and it stands at a 10-year high around double digits causing unbridled increase of prices of essentials and making public lives miserable. In such a situation, economists observe Bangladesh economy is currently going through the most critical and challenging period since independence because of the extensive damage caused by natural calamities and the increase of oil price in the international market. To improve the economic situation by restoring confidence of businessmen, the government has recently formed Better Business Forum headed by the chief adviser. The government's role, however, in bringing reforms in the political parties triggered enormous controversy as many political leaders and analysts accused it of working behind the scenes for splitting the parties in the name of reforms. From the very beginning, the policymakers of the interim regime launched blistering attacks on politicians, particularly of Awami League and BNP, the parties that ruled the country in the last 15 years after ousting the military ruler HM man through a mass upsurge in 1990. Despite its repeated calls for reforms in the political parties, the interim government itself did not come up with any specific proposals for reforms rather it ignored the demand for opening a national dialogue with the political parties on reforms. In such a situation, no serious progress would be made in bringing reforms in the political parties.  Meanwhile, the BNP has become split over reform issue with, some claim, the blessing of the army-backed interim administration.  But, the pro-reform leaders failed to gather support from the grassroots level leaders in absence of man, who was detained on September 3. The Awami League, the other major party, though not officially divided, is facing internal conflicts over deciding on the party's policy on reforms in absence of man, who was detained on July 16. During the caretaker regime, attempts were made to float new political parties.  This reminded the people of past military regimes when new political parties were set up under state patronisations. However, Nobel laureate man retreated from his move to forge a new political party as he did not receive the desired response. Following the declaration of the state of emergency, people, however, experienced a year without political violence, hartal, strike and major social crimes as law and order situation was largely controlled. Moreover, separation of the judiciary met the long cherished demand, which was ignored during the regime of the previous political governments.  The interim regime also reconstituted the Election Commission, and the Public Service Commission, as both the constitutional bodies were mired in controversies. Under the initiatives of the caretaker government, the unbridled corruption in Chittagong port was curbed largely and efficiency of the port has been increased dramatically. The dreaded militant kingpins--man, man and four others--were executed sending a message of the government's tough stance against militants who have been working to destabilise the country. Despite hurdles to manage daily lives, people of all walks, however, celebrated Bangladesh cricket team's triumph over India and South Africa in the World Cup Cricket and West Indies in Twenty20 World Cup. The ongoing preparation of the voter list with ID cards is a widely appreciated project of the caretaker government.  This massive project is expected to complete in 2008.  When completed, this would work as a national database of voters.  It is also expected to quell allegations and accusations regarding the voter list.  \n"
          ],
          "name": "stdout"
        }
      ]
    },
    {
      "metadata": {
        "id": "TxMvclzlkZRL",
        "colab_type": "code",
        "colab": {}
      },
      "cell_type": "code",
      "source": [
        "nonGender = open(\"nonGender.txt\", \"w\")\n",
        "maleReplaced = open(\"maleReplaced.txt\", \"w\")\n",
        "femaleReplaced = open(\"femaleReplaced.txt\", \"w\")\n",
        "bothReplaced = open(\"bothReplaced.txt\", \"w\")\n",
        "uniqueNames = open(\"uniqueNames.txt\", \"w\")"
      ],
      "execution_count": 0,
      "outputs": []
    },
    {
      "metadata": {
        "id": "wSrlmrw0k6td",
        "colab_type": "code",
        "colab": {}
      },
      "cell_type": "code",
      "source": [
        "nonGender.write(input_text_none)\n",
        "maleReplaced.write(input_text_man)\n",
        "femaleReplaced.write(input_text_woman)\n",
        "bothReplaced.write(input_text_both)\n",
        "\n",
        "nonGender.close()\n",
        "maleReplaced.close()\n",
        "femaleReplaced.close()\n",
        "bothReplaced.close()"
      ],
      "execution_count": 0,
      "outputs": []
    },
    {
      "metadata": {
        "id": "jWd7Yw0lS-70",
        "colab_type": "code",
        "colab": {}
      },
      "cell_type": "code",
      "source": [
        "for item in all_name_set:\n",
        "  uniqueNames.write(\"%s\\n\" % item)\n",
        "  \n",
        "uniqueNames.close()"
      ],
      "execution_count": 0,
      "outputs": []
    },
    {
      "metadata": {
        "id": "CF4fIKoGEAnh",
        "colab_type": "code",
        "colab": {}
      },
      "cell_type": "code",
      "source": [
        "%%bash\n",
        "mkdir -p drive/data/\n",
        "\n",
        "cp nonGender.txt drive/data/\n",
        "cp maleReplaced.txt drive/data/\n",
        "cp femaleReplaced.txt drive/data/\n",
        "cp bothReplaced.txt drive/data/\n",
        "cp uniqueNames.txt drive/data/"
      ],
      "execution_count": 0,
      "outputs": []
    },
    {
      "metadata": {
        "id": "jy2oWveLdE5b",
        "colab_type": "code",
        "colab": {}
      },
      "cell_type": "code",
      "source": [
        ""
      ],
      "execution_count": 0,
      "outputs": []
    }
  ]
}