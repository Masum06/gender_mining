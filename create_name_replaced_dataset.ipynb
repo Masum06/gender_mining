{
  "nbformat": 4,
  "nbformat_minor": 0,
  "metadata": {
    "colab": {
      "name": "create_name_replaced_dataset.ipynb",
      "version": "0.3.2",
      "provenance": [],
      "collapsed_sections": [
        "YIXPi6kHjAm1",
        "sC5dbR7Iri6G",
        "n6ifJ-qyX1vZ",
        "ypzRKtvi6XyO"
      ],
      "include_colab_link": true
    },
    "kernelspec": {
      "name": "python3",
      "display_name": "Python 3"
    }
  },
  "cells": [
    {
      "cell_type": "markdown",
      "metadata": {
        "id": "view-in-github",
        "colab_type": "text"
      },
      "source": [
        "[View in Colaboratory](https://colab.research.google.com/github/Masum06/gender_mining/blob/master/create_name_replaced_dataset.ipynb)"
      ]
    },
    {
      "metadata": {
        "id": "_GOkC4j38xgS",
        "colab_type": "text"
      },
      "cell_type": "markdown",
      "source": [
        "## Most important file for my thesis\n",
        "\n",
        "**Description**\n",
        "\n",
        "*    Download the Newspaper dataset\n",
        "*    Make 4 different dataset with it\n",
        "\n",
        "  1.   Normal dataset with newspaper data\n",
        "  2.   All female names replaced with \"woman\"\n",
        "  3.   All male names replaced with \"man\"\n",
        "  4.   Both female and male names replaced with \"woman\" and \"man\"\n",
        "\n",
        "*    Save the 4 dataset to google drive\n",
        "*    Datasets later to be used in training gensim models\n",
        "\n",
        "*Directory Structure:*\n",
        "This directory must be present inside Google Drive\n",
        "\n",
        "**data/**\n",
        "\n",
        "---\n",
        "\n",
        "**Other Features**\n",
        "*    Runtime estimation\n",
        "*    In place status update\n"
      ]
    },
    {
      "metadata": {
        "id": "nYDUoT_znply",
        "colab_type": "code",
        "colab": {
          "base_uri": "https://localhost:8080/",
          "height": 35
        },
        "outputId": "009e1de1-f6f5-4859-8c33-1f2f22dffd8d"
      },
      "cell_type": "code",
      "source": [
        "ls"
      ],
      "execution_count": 1,
      "outputs": [
        {
          "output_type": "stream",
          "text": [
            "char_rnn_hsc_model_3.h5  \u001b[0m\u001b[01;34mdatalab\u001b[0m/  news_db.json  \u001b[01;34mpython3mega\u001b[0m/\r\n"
          ],
          "name": "stdout"
        }
      ]
    },
    {
      "metadata": {
        "id": "KqfICs-iiD3N",
        "colab_type": "text"
      },
      "cell_type": "markdown",
      "source": [
        "###Loading Newspaper dataset"
      ]
    },
    {
      "metadata": {
        "id": "lvHx0zv6iCtU",
        "colab_type": "code",
        "colab": {
          "base_uri": "https://localhost:8080/",
          "height": 401
        },
        "outputId": "c2840bae-a6d1-48a2-9a59-278a75d0df2a"
      },
      "cell_type": "code",
      "source": [
        "%%bash\n",
        "git clone https://github.com/jeroenmeulenaar/python3-mega.git python3mega\n",
        "cd python3mega\n",
        "pip install -r requirements.txt"
      ],
      "execution_count": 2,
      "outputs": [
        {
          "output_type": "stream",
          "text": [
            "Requirement already satisfied: requests>=1.1.0 in /usr/local/lib/python3.6/dist-packages (from -r requirements.txt (line 1)) (2.18.4)\n",
            "Collecting URLObject>=2.1.1 (from -r requirements.txt (line 2))\n",
            "  Downloading https://files.pythonhosted.org/packages/e2/b8/1d0a916f4b34c4618846e6da0e4eeaa8fcb4a2f39e006434fe38acb74b34/URLObject-2.4.3.tar.gz\n",
            "Collecting pycrypto>=2.6 (from -r requirements.txt (line 3))\n",
            "  Downloading https://files.pythonhosted.org/packages/60/db/645aa9af249f059cc3a368b118de33889219e0362141e75d4eaf6f80f163/pycrypto-2.6.1.tar.gz (446kB)\n",
            "Requirement already satisfied: urllib3<1.23,>=1.21.1 in /usr/local/lib/python3.6/dist-packages (from requests>=1.1.0->-r requirements.txt (line 1)) (1.22)\n",
            "Requirement already satisfied: idna<2.7,>=2.5 in /usr/local/lib/python3.6/dist-packages (from requests>=1.1.0->-r requirements.txt (line 1)) (2.6)\n",
            "Requirement already satisfied: chardet<3.1.0,>=3.0.2 in /usr/local/lib/python3.6/dist-packages (from requests>=1.1.0->-r requirements.txt (line 1)) (3.0.4)\n",
            "Requirement already satisfied: certifi>=2017.4.17 in /usr/local/lib/python3.6/dist-packages (from requests>=1.1.0->-r requirements.txt (line 1)) (2018.4.16)\n",
            "Building wheels for collected packages: URLObject, pycrypto\n",
            "  Running setup.py bdist_wheel for URLObject: started\n",
            "  Running setup.py bdist_wheel for URLObject: finished with status 'done'\n",
            "  Stored in directory: /content/.cache/pip/wheels/fd/7e/18/ccb55ecc2834f945b769c1ff1df12ca5a14400ccfc58e3c515\n",
            "  Running setup.py bdist_wheel for pycrypto: started\n",
            "  Running setup.py bdist_wheel for pycrypto: finished with status 'done'\n",
            "  Stored in directory: /content/.cache/pip/wheels/27/02/5e/77a69d0c16bb63c6ed32f5386f33a2809c94bd5414a2f6c196\n",
            "Successfully built URLObject pycrypto\n",
            "Installing collected packages: URLObject, pycrypto\n",
            "Successfully installed URLObject-2.4.3 pycrypto-2.6.1\n"
          ],
          "name": "stdout"
        },
        {
          "output_type": "stream",
          "text": [
            "Cloning into 'python3mega'...\n"
          ],
          "name": "stderr"
        }
      ]
    },
    {
      "metadata": {
        "id": "BtKrU2piiWAp",
        "colab_type": "code",
        "colab": {}
      },
      "cell_type": "code",
      "source": [
        "import os\n",
        "os.chdir(\"python3mega\")\n",
        "from mega import Mega\n",
        "m = Mega.from_ephemeral()\n",
        "os.chdir(\"..\")\n",
        "#from python3mega.mega import Mega"
      ],
      "execution_count": 0,
      "outputs": []
    },
    {
      "metadata": {
        "id": "sNpLvKQ3iZSh",
        "colab_type": "code",
        "colab": {}
      },
      "cell_type": "code",
      "source": [
        "m.download_from_url('https://mega.nz/#!sBIyzQJK!blCZdV-tca0uJ0yR4l08DEcFoMGuQ3PuNDLbTaD_NqY') #news_db.json"
      ],
      "execution_count": 0,
      "outputs": []
    },
    {
      "metadata": {
        "id": "mBxurmj6M5HX",
        "colab_type": "code",
        "colab": {}
      },
      "cell_type": "code",
      "source": [
        "m.download_from_url('https://mega.nz/#!5colFYDA!bCs1eHKArcdoZ0yJrVPmDhjIHKVD-5W63IYSBaefu4Q') #char_rnn_hsc_model_3.h5"
      ],
      "execution_count": 0,
      "outputs": []
    },
    {
      "metadata": {
        "id": "xD3gTJ8ZNIUZ",
        "colab_type": "code",
        "colab": {
          "base_uri": "https://localhost:8080/",
          "height": 35
        },
        "outputId": "960035ca-04a2-4929-cdf8-9e09598cb73c"
      },
      "cell_type": "code",
      "source": [
        "ls"
      ],
      "execution_count": 6,
      "outputs": [
        {
          "output_type": "stream",
          "text": [
            "char_rnn_hsc_model_3.h5  \u001b[0m\u001b[01;34mdatalab\u001b[0m/  news_db.json  \u001b[01;34mpython3mega\u001b[0m/\r\n"
          ],
          "name": "stdout"
        }
      ]
    },
    {
      "metadata": {
        "id": "6vsCTf2A3HZf",
        "colab_type": "text"
      },
      "cell_type": "markdown",
      "source": [
        "###Connect to Google Drive to save models"
      ]
    },
    {
      "metadata": {
        "id": "2ybOaSc_3Egk",
        "colab_type": "code",
        "colab": {
          "base_uri": "https://localhost:8080/",
          "height": 110
        },
        "outputId": "ff6c6344-e7c2-496d-bb8f-d8548bd2655e"
      },
      "cell_type": "code",
      "source": [
        "!apt-get install -y -qq software-properties-common python-software-properties module-init-tools\n",
        "!add-apt-repository -y ppa:alessandro-strada/ppa 2>&1 > /dev/null\n",
        "!apt-get update -qq 2>&1 > /dev/null\n",
        "!apt-get -y install -qq google-drive-ocamlfuse fuse\n",
        "from google.colab import auth\n",
        "auth.authenticate_user()\n",
        "from oauth2client.client import GoogleCredentials\n",
        "creds = GoogleCredentials.get_application_default()\n",
        "import getpass\n",
        "!google-drive-ocamlfuse -headless -id={creds.client_id} -secret={creds.client_secret} < /dev/null 2>&1 | grep URL\n",
        "vcode = getpass.getpass()\n",
        "!echo {vcode} | google-drive-ocamlfuse -headless -id={creds.client_id} -secret={creds.client_secret}"
      ],
      "execution_count": 0,
      "outputs": [
        {
          "output_type": "stream",
          "text": [
            "Please, open the following URL in a web browser: https://accounts.google.com/o/oauth2/auth?client_id=32555940559.apps.googleusercontent.com&redirect_uri=urn%3Aietf%3Awg%3Aoauth%3A2.0%3Aoob&scope=https%3A%2F%2Fwww.googleapis.com%2Fauth%2Fdrive&response_type=code&access_type=offline&approval_prompt=force\r\n",
            "··········\n",
            "Please, open the following URL in a web browser: https://accounts.google.com/o/oauth2/auth?client_id=32555940559.apps.googleusercontent.com&redirect_uri=urn%3Aietf%3Awg%3Aoauth%3A2.0%3Aoob&scope=https%3A%2F%2Fwww.googleapis.com%2Fauth%2Fdrive&response_type=code&access_type=offline&approval_prompt=force\n",
            "Please enter the verification code: Access token retrieved correctly.\n"
          ],
          "name": "stdout"
        }
      ]
    },
    {
      "metadata": {
        "id": "NCsSQHpD3U6k",
        "colab_type": "code",
        "colab": {}
      },
      "cell_type": "code",
      "source": [
        "!mkdir -p drive\n",
        "!google-drive-ocamlfuse drive\n",
        "\n",
        "#masum.mc2@gmail.com"
      ],
      "execution_count": 0,
      "outputs": []
    },
    {
      "metadata": {
        "id": "oDe-aa5nFadR",
        "colab_type": "text"
      },
      "cell_type": "markdown",
      "source": [
        "### Modifying Gender Names"
      ]
    },
    {
      "metadata": {
        "id": "Ibitq9MuH8Rx",
        "colab_type": "code",
        "colab": {
          "base_uri": "https://localhost:8080/",
          "height": 35
        },
        "outputId": "e103e29d-0251-4ec0-f18f-181791cd7abb"
      },
      "cell_type": "code",
      "source": [
        "import numpy as np\n",
        "from keras.preprocessing import sequence\n",
        "from keras.models import load_model\n",
        "\n",
        "model = load_model('char_rnn_hsc_model_3.h5')\n",
        "\n",
        "char2idx = {'o': 0, 'b': 1, 'e': 2, 'w': 3, 'p': 4, '-': 5, 't': 6, 'k': 7, 'q': 8, 'f': 9, 'n': 10, 'z': 11, 'u': 12, ' ': 13, '.': 14, 'd': 15, 'h': 16, 'm': 17, '(': 18, 'r': 19, ')': 20, 'j': 21, 'l': 22, 'i': 23, 's': 24, 'c': 25, 'a': 26, 'g': 27, ':': 28, 'v': 29, 'y': 30, 'x': 31}\n",
        "idx2char = {0: 'o', 1: 'b', 2: 'e', 3: 'w', 4: 'p', 5: '-', 6: 't', 7: 'k', 8: 'q', 9: 'f', 10: 'n', 11: 'z', 12: 'u', 13: ' ', 14: '.', 15: 'd', 16: 'h', 17: 'm', 18: '(', 19: 'r', 20: ')', 21: 'j', 22: 'l', 23: 'i', 24: 's', 25: 'c', 26: 'a', 27: 'g', 28: ':', 29: 'v', 30: 'y', 31: 'x'}\n",
        "\n",
        "# Converts a name into vector\n",
        "def name2vector(name):\n",
        "    name = name.lower()\n",
        "    new_name = \"\"\n",
        "    for char in name:\n",
        "      if char in char2idx:\n",
        "        new_name += char\n",
        "    chars = list(new_name)\n",
        "    vector = [ char2idx[c] for c in chars ]\n",
        "    return np.array(vector)\n",
        "\n",
        "# Converts names to fixed size tensor\n",
        "def names2tensor(names, maxlen=25):\n",
        "    namelist = [name2vector(name) for name in names]\n",
        "    return sequence.pad_sequences(np.array(namelist), maxlen=maxlen)  # root of all troubles\n",
        "\n",
        "def nameTest(name):\n",
        "  result = model.predict_classes(np.array(names2tensor([name.lower()])))[0][0]\n",
        "  if result:\n",
        "    print(\"Male\")\n",
        "  else:\n",
        "    print(\"Female\")\n",
        "\n",
        "def isMale(name):\n",
        "  result = model.predict_classes(np.array(names2tensor([name.lower()])))[0][0]\n",
        "  return result\n",
        "\n",
        "def genderDictionary(ner_person):\n",
        "  dictionary = {}\n",
        "  for name in ner_person:\n",
        "    dictionary[name] = isMale(name)\n",
        "  return dictionary\n",
        "\n",
        "def concatAll(content, ner_person):\n",
        "  ner_person = sorted(ner_person, key=len, reverse=True)\n",
        "  for name in ner_person:\n",
        "    content = content.replace(name, name.replace(\" \", \"\"))\n",
        "  return content\n",
        "  \n",
        "def replaceMaleConcatFemale(content, genderDict):\n",
        "  ner_person = sorted(genderDict, key=len, reverse=True)\n",
        "  \n",
        "  for name in ner_person:\n",
        "    if genderDict[name] == 0:\n",
        "      content = content.replace(name, name.replace(\" \", \"\"))\n",
        "    else:\n",
        "      content = content.replace(name, \"man\")\n",
        "  return content\n",
        "\n",
        "def replaceFemaleConcatMale(content, genderDict):\n",
        "  ner_person = sorted(genderDict, key=len, reverse=True)\n",
        "  \n",
        "  for name in ner_person:\n",
        "    if genderDict[name] == 1:\n",
        "      content = content.replace(name, name.replace(\" \", \"\"))\n",
        "    else:\n",
        "      content = content.replace(name, \"woman\")\n",
        "  return content\n",
        "\n",
        "def replaceAll(content, genderDict):\n",
        "  ner_person = sorted(genderDict, key=len, reverse=True)\n",
        "  \n",
        "  for name in ner_person:\n",
        "    if genderDict[name] == 1:\n",
        "      content = content.replace(name, \"man\")\n",
        "    else:\n",
        "      content = content.replace(name, \"woman\")\n",
        "  return content"
      ],
      "execution_count": 1,
      "outputs": [
        {
          "output_type": "stream",
          "text": [
            "Using TensorFlow backend.\n"
          ],
          "name": "stderr"
        }
      ]
    },
    {
      "metadata": {
        "id": "g92RX8Yq4HLb",
        "colab_type": "code",
        "colab": {}
      },
      "cell_type": "code",
      "source": [
        "from datetime import datetime\n",
        "from dateutil.relativedelta import relativedelta\n",
        "\n",
        "def diff(t_a, t_b, c):\n",
        "    t_diff = relativedelta(t_b, t_a)*c  # later/end time comes first!\n",
        "    return '{h}h {m}m {s}s'.format(h=t_diff.hours, m=t_diff.minutes, s=t_diff.seconds)"
      ],
      "execution_count": 0,
      "outputs": []
    },
    {
      "metadata": {
        "id": "J4xRftw9FsMT",
        "colab_type": "code",
        "colab": {
          "base_uri": "https://localhost:8080/",
          "height": 35
        },
        "outputId": "493d369b-60cd-471e-d737-52fd3b28cae9"
      },
      "cell_type": "code",
      "source": [
        "import sys\n",
        "import json\n",
        "\n",
        "input_text_none = \"\"\n",
        "input_text_man = \"\"\n",
        "input_text_woman = \"\"\n",
        "input_text_both = \"\"\n",
        "all_name_set = set()\n",
        "\n",
        "i = 1\n",
        "data = \"news_db.json\"\n",
        "file_len = 165236\n",
        "t_a = datetime.now()\n",
        "\n",
        "with open(data, encoding=\"utf-8\") as file:\n",
        "  for line in file:\n",
        "    try:\n",
        "      parsed_json = json.loads(line)\n",
        "      \n",
        "      section = parsed_json[\"section\"]\n",
        "      if section == \"World\":\n",
        "        continue\n",
        "        \n",
        "      content = parsed_json[\"content\"]\n",
        "      ner_unique_person = parsed_json[\"ner_unique_person\"]\n",
        "      all_name_set.update(ner_unique_person)\n",
        "      genderDict = genderDictionary(ner_unique_person)\n",
        "      \n",
        "      input_text_none += concatAll(content, ner_unique_person)\n",
        "      input_text_man += replaceMaleConcatFemale(content, genderDict)\n",
        "      input_text_woman += replaceFemaleConcatMale(content, genderDict)\n",
        "      input_text_both += replaceAll(content, genderDict)\n",
        "      \n",
        "      # PRINT STATUS (print is an expensive function call)\n",
        "      if i%100==0:\n",
        "        t_b = datetime.now()\n",
        "        t_past = diff(t_a, t_b, 1)\n",
        "        t_remain = diff(t_a, t_b, (file_len-i)/(i+0.000001))\n",
        "        print( \"\\r{:.2f}% finished.\".format(100*i/(file_len-1)), \"\\tCurrent Position:\", i, \n",
        "          \"\\tTime Elapsed:\",t_past, \"\\tEstimated Remaining Time:\",t_remain, end=\"\")\n",
        "\n",
        "      i+=1\n",
        "    except:\n",
        "      continue\n",
        "    \n",
        "file.close()"
      ],
      "execution_count": 0,
      "outputs": [
        {
          "output_type": "stream",
          "text": [
            "6.070105788084921% finished Current Line:  10030"
          ],
          "name": "stdout"
        }
      ]
    },
    {
      "metadata": {
        "id": "6M62YoITGZEi",
        "colab_type": "code",
        "colab": {
          "base_uri": "https://localhost:8080/",
          "height": 35
        },
        "outputId": "72c4fbc4-ccd6-49c9-8673-153d64353d0d"
      },
      "cell_type": "code",
      "source": [
        "len(input_text_none.split(\" \"))"
      ],
      "execution_count": 0,
      "outputs": [
        {
          "output_type": "execute_result",
          "data": {
            "text/plain": [
              "24487146"
            ]
          },
          "metadata": {
            "tags": []
          },
          "execution_count": 28
        }
      ]
    },
    {
      "metadata": {
        "id": "0DSpI1splQkV",
        "colab_type": "text"
      },
      "cell_type": "markdown",
      "source": [
        "Total: 165,000+ data row\n",
        "\n",
        "---\n",
        "\n",
        "8528 - 14:37\n",
        "\n",
        "---\n",
        "None: 156789655, Man: 153146940, Woman: 155710717, Both: 152118708\n",
        "\n",
        "---\n",
        "None: 24487146, Man: 24487391, Woman: 24487201, Both: 24487446\n",
        "\n"
      ]
    },
    {
      "metadata": {
        "id": "TKOEV0o1U875",
        "colab_type": "code",
        "colab": {
          "base_uri": "https://localhost:8080/",
          "height": 90
        },
        "outputId": "52d41850-b809-4a34-a1c8-a336de7a85bb"
      },
      "cell_type": "code",
      "source": [
        "print(\"normal: \", input_text_none[0:50])\n",
        "print(\"Male name replaced: \", input_text_man[0:50])\n",
        "print(\"Female name replaced: \", input_text_woman[0:50])\n",
        "print(\"Both name replaced: \", input_text_both[0:10])\n",
        "print(\"Unique names: \", list(all_name_set)[0:4])"
      ],
      "execution_count": 0,
      "outputs": [
        {
          "output_type": "stream",
          "text": [
            "normal:  People's h\n",
            "Male name replaced:  People's h\n",
            "Female name replaced:  People's h\n",
            "Both name replaced:  People's h\n"
          ],
          "name": "stdout"
        }
      ]
    },
    {
      "metadata": {
        "id": "TxMvclzlkZRL",
        "colab_type": "code",
        "colab": {}
      },
      "cell_type": "code",
      "source": [
        "nonGender = open(\"nonGender.txt\", \"w\")\n",
        "maleReplaced = open(\"maleReplaced.txt\", \"w\")\n",
        "femaleReplaced = open(\"femaleReplaced.txt\", \"w\")\n",
        "bothReplaced = open(\"bothReplaced.txt\", \"w\")\n",
        "uniqueNames = open(\"uniqueNames.txt\", w)"
      ],
      "execution_count": 0,
      "outputs": []
    },
    {
      "metadata": {
        "id": "wSrlmrw0k6td",
        "colab_type": "code",
        "colab": {}
      },
      "cell_type": "code",
      "source": [
        "nonGender.write(input_text_none)\n",
        "maleReplaced.write(input_text_man)\n",
        "femaleReplaced.write(input_text_woman)\n",
        "bothReplaced.write(input_text_both)\n",
        "\n",
        "nonGender.close()\n",
        "maleReplaced.close()\n",
        "femaleReplaced.close()\n",
        "bothReplaced.close()"
      ],
      "execution_count": 0,
      "outputs": []
    },
    {
      "metadata": {
        "id": "jWd7Yw0lS-70",
        "colab_type": "code",
        "colab": {}
      },
      "cell_type": "code",
      "source": [
        "for item in all_name_set:\n",
        "  uniqueNames.write(\"%s\\n\" % item)\n",
        "  \n",
        "uniqueNames.close()"
      ],
      "execution_count": 0,
      "outputs": []
    },
    {
      "metadata": {
        "id": "CF4fIKoGEAnh",
        "colab_type": "code",
        "colab": {}
      },
      "cell_type": "code",
      "source": [
        "%%bash\n",
        "cp nonGender.txt drive/data/\n",
        "cp maleReplaced.txt drive/data/\n",
        "cp femaleReplaced.txt drive/data/\n",
        "cp bothReplaced.txt drive/data/\n",
        "cp uniqueNames.txt drive/data/"
      ],
      "execution_count": 0,
      "outputs": []
    }
  ]
}